{
 "cells": [
  {
   "cell_type": "markdown",
   "metadata": {},
   "source": [
    "# 09 이항모델 임플리멘테이션"
   ]
  },
  {
   "cell_type": "code",
   "execution_count": 18,
   "metadata": {},
   "outputs": [
    {
     "name": "stdout",
     "output_type": "stream",
     "text": [
      "(253,)\n",
      "(253,)\n"
     ]
    }
   ],
   "source": [
    "import numpy as np\n",
    "\n",
    "S=258; K=250; T=1; r=0.03; v=0.20;\n",
    "\n",
    "M=12*21 \n",
    "m=int(M*T)\n",
    "t=np.linspace(0, T, m+1) #numpy linspace \n",
    "dt=t[1]-t[0];\n",
    "\n",
    "#Choose a parametrization\n",
    "if 1:\n",
    "    #Wilmott parametrization\n",
    "    U=1+v*np.sqrt(dt); \n",
    "    D=1-v*np.sqrt(dt); \n",
    "    q_u=0.5+r*np.sqrt(dt)/(2*v); \n",
    "    q_d=1-q_u; \n",
    "elif 0:\n",
    "    # CRR parametrization\n",
    "    U=exp(v*np.sqrt(dt)); \n",
    "    D=exp(-v*np.sqrt(dt)); \n",
    "    q_u=(np.exp(r*dt)-D)/(U-D); \n",
    "    q_d=1-q_u; \n",
    "elif 0:\n",
    "    # JR parametrization\n",
    "    U=np.exp((r-0.5*v**2)*dt+v*np.sqrt(dt)); \n",
    "    D=np.exp((r-0.5*v**2)*dt-v*np.sqrt(dt)); \n",
    "    q_u=0.5; \n",
    "    q_d=1-q_u;\n",
    "    \n",
    "# Option payoff at maturity\n",
    "Stock = S * D**np.arange(0,M+1) * U**np.arange(M,-1,-1); \n",
    "#np.arange(n) : 0부터 n까지의 array\n",
    "#np.arange(n, m, k) : n부터 m까지 k의 간격으로 나열한 숫자들의 array\n",
    "print(Stock.shape)\n",
    "\n",
    "V = np.maximum(K-Stock,0);\n",
    "print(V.shape)"
   ]
  },
  {
   "cell_type": "code",
   "execution_count": 19,
   "metadata": {},
   "outputs": [
    {
     "data": {
      "image/png": "[encoded data removed]",
      "text/plain": [
       "<Figure size 432x288 with 1 Axes>"
      ]
     },
     "metadata": {
      "needs_background": "light"
     },
     "output_type": "display_data"
    }
   ],
   "source": [
    "%matplotlib inline\n",
    "import matplotlib.pyplot as plt\n",
    "\n",
    "plt.plot(Stock, V)\n",
    "plt.show()"
   ]
  },
  {
   "cell_type": "code",
   "execution_count": 20,
   "metadata": {},
   "outputs": [
    {
     "name": "stdout",
     "output_type": "stream",
     "text": [
      "13.194280849216806\n"
     ]
    }
   ],
   "source": [
    "for _ in t[:-1]:\n",
    "    V = np.exp(-r*dt) * (q_u*V[:-1]+q_d*V[1:]);\n",
    "print(V[0])"
   ]
  },
  {
   "cell_type": "code",
   "execution_count": null,
   "metadata": {},
   "outputs": [],
   "source": []
  }
 ],
 "metadata": {
  "kernelspec": {
   "display_name": "Python 3",
   "language": "python",
   "name": "python3"
  },
  "language_info": {
   "codemirror_mode": {
    "name": "ipython",
    "version": 3
   },
   "file_extension": ".py",
   "mimetype": "text/x-python",
   "name": "python",
   "nbconvert_exporter": "python",
   "pygments_lexer": "ipython3",
   "version": "3.7.3"
  }
 },
 "nbformat": 4,
 "nbformat_minor": 2
}
